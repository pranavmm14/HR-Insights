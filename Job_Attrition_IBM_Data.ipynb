{
 "cells": [
  {
   "cell_type": "markdown",
   "id": "317355a4",
   "metadata": {},
   "source": [
    "# Job Attrition Prediction Model\n",
    "\n",
    "Data source:\n",
    "https://www.kaggle.com/datasets/pavansubhasht/ibm-hr-analytics-attrition-dataset"
   ]
  },
  {
   "cell_type": "markdown",
   "id": "111649ae",
   "metadata": {},
   "source": [
    "About Dataset\n",
    "Uncover the factors that lead to employee attrition and explore important questions such as ‘show me a breakdown of distance from home by job role and attrition’ or ‘compare average monthly income by education and attrition’. This is a fictional data set created by IBM data scientists.\n",
    "\n",
    "Education\n",
    "1 'Below College'\n",
    "2 'College'\n",
    "3 'Bachelor'\n",
    "4 'Master'\n",
    "5 'Doctor'\n",
    "\n",
    "EnvironmentSatisfaction\n",
    "1 'Low'\n",
    "2 'Medium'\n",
    "3 'High'\n",
    "4 'Very High'\n",
    "\n",
    "JobInvolvement\n",
    "1 'Low'\n",
    "2 'Medium'\n",
    "3 'High'\n",
    "4 'Very High'\n",
    "\n",
    "JobSatisfaction\n",
    "1 'Low'\n",
    "2 'Medium'\n",
    "3 'High'\n",
    "4 'Very High'\n",
    "\n",
    "PerformanceRating\n",
    "1 'Low'\n",
    "2 'Good'\n",
    "3 'Excellent'\n",
    "4 'Outstanding'\n",
    "\n",
    "RelationshipSatisfaction\n",
    "1 'Low'\n",
    "2 'Medium'\n",
    "3 'High'\n",
    "4 'Very High'\n",
    "\n",
    "WorkLifeBalance\n",
    "1 'Bad'\n",
    "2 'Good'\n",
    "3 'Better'\n",
    "4 'Best'"
   ]
  },
  {
   "cell_type": "markdown",
   "id": "aae19510",
   "metadata": {},
   "source": [
    "## Importing required libraries"
   ]
  },
  {
   "cell_type": "markdown",
   "id": "02de7e45",
   "metadata": {},
   "source": [
    " "
   ]
  },
  {
   "cell_type": "code",
   "execution_count": 2,
   "id": "5bcbde05",
   "metadata": {},
   "outputs": [],
   "source": [
    "import numpy as np \n",
    "import pandas as pd\n",
    "\n",
    "%matplotlib inline\n",
    "import matplotlib.pyplot as plt\n",
    "import seaborn as sns\n",
    "\n",
    "\n",
    "import warnings\n",
    "\n",
    "from sklearn.preprocessing import LabelEncoder\n",
    "from sklearn.model_selection import train_test_split \n",
    "from sklearn.cluster import KMeans\n"
   ]
  },
  {
   "cell_type": "markdown",
   "id": "cbeff9b8",
   "metadata": {},
   "source": [
    "> Ignoring any kind of unwanted warings in while analysing dataset.\n"
   ]
  },
  {
   "cell_type": "code",
   "execution_count": 3,
   "id": "b7c3aa06",
   "metadata": {},
   "outputs": [],
   "source": [
    "warnings.filterwarnings('ignore')"
   ]
  },
  {
   "cell_type": "markdown",
   "id": "26a2e7c7",
   "metadata": {},
   "source": [
    "## Studying Data Labels "
   ]
  },
  {
   "cell_type": "code",
   "execution_count": 4,
   "id": "807271e9",
   "metadata": {},
   "outputs": [
    {
     "name": "stdout",
     "output_type": "stream",
     "text": [
      "<class 'pandas.core.frame.DataFrame'>\n",
      "RangeIndex: 1470 entries, 0 to 1469\n",
      "Data columns (total 35 columns):\n",
      " #   Column                    Non-Null Count  Dtype \n",
      "---  ------                    --------------  ----- \n",
      " 0   Age                       1470 non-null   int64 \n",
      " 1   Attrition                 1470 non-null   object\n",
      " 2   BusinessTravel            1470 non-null   object\n",
      " 3   DailyRate                 1470 non-null   int64 \n",
      " 4   Department                1470 non-null   object\n",
      " 5   DistanceFromHome          1470 non-null   int64 \n",
      " 6   Education                 1470 non-null   int64 \n",
      " 7   EducationField            1470 non-null   object\n",
      " 8   EmployeeCount             1470 non-null   int64 \n",
      " 9   EmployeeNumber            1470 non-null   int64 \n",
      " 10  EnvironmentSatisfaction   1470 non-null   int64 \n",
      " 11  Gender                    1470 non-null   object\n",
      " 12  HourlyRate                1470 non-null   int64 \n",
      " 13  JobInvolvement            1470 non-null   int64 \n",
      " 14  JobLevel                  1470 non-null   int64 \n",
      " 15  JobRole                   1470 non-null   object\n",
      " 16  JobSatisfaction           1470 non-null   int64 \n",
      " 17  MaritalStatus             1470 non-null   object\n",
      " 18  MonthlyIncome             1470 non-null   int64 \n",
      " 19  MonthlyRate               1470 non-null   int64 \n",
      " 20  NumCompaniesWorked        1470 non-null   int64 \n",
      " 21  Over18                    1470 non-null   object\n",
      " 22  OverTime                  1470 non-null   object\n",
      " 23  PercentSalaryHike         1470 non-null   int64 \n",
      " 24  PerformanceRating         1470 non-null   int64 \n",
      " 25  RelationshipSatisfaction  1470 non-null   int64 \n",
      " 26  StandardHours             1470 non-null   int64 \n",
      " 27  StockOptionLevel          1470 non-null   int64 \n",
      " 28  TotalWorkingYears         1470 non-null   int64 \n",
      " 29  TrainingTimesLastYear     1470 non-null   int64 \n",
      " 30  WorkLifeBalance           1470 non-null   int64 \n",
      " 31  YearsAtCompany            1470 non-null   int64 \n",
      " 32  YearsInCurrentRole        1470 non-null   int64 \n",
      " 33  YearsSinceLastPromotion   1470 non-null   int64 \n",
      " 34  YearsWithCurrManager      1470 non-null   int64 \n",
      "dtypes: int64(26), object(9)\n",
      "memory usage: 402.1+ KB\n"
     ]
    }
   ],
   "source": [
    "jAttr_data = pd.read_csv(\"WA_Fn-UseC_-HR-Employee-Attrition.csv\")\n",
    "jAttr_data.info()"
   ]
  },
  {
   "cell_type": "code",
   "execution_count": 5,
   "id": "35161f07",
   "metadata": {},
   "outputs": [
    {
     "data": {
      "text/html": [
       "<div>\n",
       "<style scoped>\n",
       "    .dataframe tbody tr th:only-of-type {\n",
       "        vertical-align: middle;\n",
       "    }\n",
       "\n",
       "    .dataframe tbody tr th {\n",
       "        vertical-align: top;\n",
       "    }\n",
       "\n",
       "    .dataframe thead th {\n",
       "        text-align: right;\n",
       "    }\n",
       "</style>\n",
       "<table border=\"1\" class=\"dataframe\">\n",
       "  <thead>\n",
       "    <tr style=\"text-align: right;\">\n",
       "      <th></th>\n",
       "      <th>count</th>\n",
       "      <th>mean</th>\n",
       "      <th>std</th>\n",
       "      <th>min</th>\n",
       "      <th>25%</th>\n",
       "      <th>50%</th>\n",
       "      <th>75%</th>\n",
       "      <th>max</th>\n",
       "    </tr>\n",
       "  </thead>\n",
       "  <tbody>\n",
       "    <tr>\n",
       "      <th>Age</th>\n",
       "      <td>1470.0</td>\n",
       "      <td>36.92</td>\n",
       "      <td>9.14</td>\n",
       "      <td>18.0</td>\n",
       "      <td>30.00</td>\n",
       "      <td>36.0</td>\n",
       "      <td>43.00</td>\n",
       "      <td>60.0</td>\n",
       "    </tr>\n",
       "    <tr>\n",
       "      <th>DailyRate</th>\n",
       "      <td>1470.0</td>\n",
       "      <td>802.49</td>\n",
       "      <td>403.51</td>\n",
       "      <td>102.0</td>\n",
       "      <td>465.00</td>\n",
       "      <td>802.0</td>\n",
       "      <td>1157.00</td>\n",
       "      <td>1499.0</td>\n",
       "    </tr>\n",
       "    <tr>\n",
       "      <th>DistanceFromHome</th>\n",
       "      <td>1470.0</td>\n",
       "      <td>9.19</td>\n",
       "      <td>8.11</td>\n",
       "      <td>1.0</td>\n",
       "      <td>2.00</td>\n",
       "      <td>7.0</td>\n",
       "      <td>14.00</td>\n",
       "      <td>29.0</td>\n",
       "    </tr>\n",
       "    <tr>\n",
       "      <th>Education</th>\n",
       "      <td>1470.0</td>\n",
       "      <td>2.91</td>\n",
       "      <td>1.02</td>\n",
       "      <td>1.0</td>\n",
       "      <td>2.00</td>\n",
       "      <td>3.0</td>\n",
       "      <td>4.00</td>\n",
       "      <td>5.0</td>\n",
       "    </tr>\n",
       "    <tr>\n",
       "      <th>EmployeeCount</th>\n",
       "      <td>1470.0</td>\n",
       "      <td>1.00</td>\n",
       "      <td>0.00</td>\n",
       "      <td>1.0</td>\n",
       "      <td>1.00</td>\n",
       "      <td>1.0</td>\n",
       "      <td>1.00</td>\n",
       "      <td>1.0</td>\n",
       "    </tr>\n",
       "    <tr>\n",
       "      <th>EmployeeNumber</th>\n",
       "      <td>1470.0</td>\n",
       "      <td>1024.87</td>\n",
       "      <td>602.02</td>\n",
       "      <td>1.0</td>\n",
       "      <td>491.25</td>\n",
       "      <td>1020.5</td>\n",
       "      <td>1555.75</td>\n",
       "      <td>2068.0</td>\n",
       "    </tr>\n",
       "    <tr>\n",
       "      <th>EnvironmentSatisfaction</th>\n",
       "      <td>1470.0</td>\n",
       "      <td>2.72</td>\n",
       "      <td>1.09</td>\n",
       "      <td>1.0</td>\n",
       "      <td>2.00</td>\n",
       "      <td>3.0</td>\n",
       "      <td>4.00</td>\n",
       "      <td>4.0</td>\n",
       "    </tr>\n",
       "    <tr>\n",
       "      <th>HourlyRate</th>\n",
       "      <td>1470.0</td>\n",
       "      <td>65.89</td>\n",
       "      <td>20.33</td>\n",
       "      <td>30.0</td>\n",
       "      <td>48.00</td>\n",
       "      <td>66.0</td>\n",
       "      <td>83.75</td>\n",
       "      <td>100.0</td>\n",
       "    </tr>\n",
       "    <tr>\n",
       "      <th>JobInvolvement</th>\n",
       "      <td>1470.0</td>\n",
       "      <td>2.73</td>\n",
       "      <td>0.71</td>\n",
       "      <td>1.0</td>\n",
       "      <td>2.00</td>\n",
       "      <td>3.0</td>\n",
       "      <td>3.00</td>\n",
       "      <td>4.0</td>\n",
       "    </tr>\n",
       "    <tr>\n",
       "      <th>JobLevel</th>\n",
       "      <td>1470.0</td>\n",
       "      <td>2.06</td>\n",
       "      <td>1.11</td>\n",
       "      <td>1.0</td>\n",
       "      <td>1.00</td>\n",
       "      <td>2.0</td>\n",
       "      <td>3.00</td>\n",
       "      <td>5.0</td>\n",
       "    </tr>\n",
       "    <tr>\n",
       "      <th>JobSatisfaction</th>\n",
       "      <td>1470.0</td>\n",
       "      <td>2.73</td>\n",
       "      <td>1.10</td>\n",
       "      <td>1.0</td>\n",
       "      <td>2.00</td>\n",
       "      <td>3.0</td>\n",
       "      <td>4.00</td>\n",
       "      <td>4.0</td>\n",
       "    </tr>\n",
       "    <tr>\n",
       "      <th>MonthlyIncome</th>\n",
       "      <td>1470.0</td>\n",
       "      <td>6502.93</td>\n",
       "      <td>4707.96</td>\n",
       "      <td>1009.0</td>\n",
       "      <td>2911.00</td>\n",
       "      <td>4919.0</td>\n",
       "      <td>8379.00</td>\n",
       "      <td>19999.0</td>\n",
       "    </tr>\n",
       "    <tr>\n",
       "      <th>MonthlyRate</th>\n",
       "      <td>1470.0</td>\n",
       "      <td>14313.10</td>\n",
       "      <td>7117.79</td>\n",
       "      <td>2094.0</td>\n",
       "      <td>8047.00</td>\n",
       "      <td>14235.5</td>\n",
       "      <td>20461.50</td>\n",
       "      <td>26999.0</td>\n",
       "    </tr>\n",
       "    <tr>\n",
       "      <th>NumCompaniesWorked</th>\n",
       "      <td>1470.0</td>\n",
       "      <td>2.69</td>\n",
       "      <td>2.50</td>\n",
       "      <td>0.0</td>\n",
       "      <td>1.00</td>\n",
       "      <td>2.0</td>\n",
       "      <td>4.00</td>\n",
       "      <td>9.0</td>\n",
       "    </tr>\n",
       "    <tr>\n",
       "      <th>PercentSalaryHike</th>\n",
       "      <td>1470.0</td>\n",
       "      <td>15.21</td>\n",
       "      <td>3.66</td>\n",
       "      <td>11.0</td>\n",
       "      <td>12.00</td>\n",
       "      <td>14.0</td>\n",
       "      <td>18.00</td>\n",
       "      <td>25.0</td>\n",
       "    </tr>\n",
       "    <tr>\n",
       "      <th>PerformanceRating</th>\n",
       "      <td>1470.0</td>\n",
       "      <td>3.15</td>\n",
       "      <td>0.36</td>\n",
       "      <td>3.0</td>\n",
       "      <td>3.00</td>\n",
       "      <td>3.0</td>\n",
       "      <td>3.00</td>\n",
       "      <td>4.0</td>\n",
       "    </tr>\n",
       "    <tr>\n",
       "      <th>RelationshipSatisfaction</th>\n",
       "      <td>1470.0</td>\n",
       "      <td>2.71</td>\n",
       "      <td>1.08</td>\n",
       "      <td>1.0</td>\n",
       "      <td>2.00</td>\n",
       "      <td>3.0</td>\n",
       "      <td>4.00</td>\n",
       "      <td>4.0</td>\n",
       "    </tr>\n",
       "    <tr>\n",
       "      <th>StandardHours</th>\n",
       "      <td>1470.0</td>\n",
       "      <td>80.00</td>\n",
       "      <td>0.00</td>\n",
       "      <td>80.0</td>\n",
       "      <td>80.00</td>\n",
       "      <td>80.0</td>\n",
       "      <td>80.00</td>\n",
       "      <td>80.0</td>\n",
       "    </tr>\n",
       "    <tr>\n",
       "      <th>StockOptionLevel</th>\n",
       "      <td>1470.0</td>\n",
       "      <td>0.79</td>\n",
       "      <td>0.85</td>\n",
       "      <td>0.0</td>\n",
       "      <td>0.00</td>\n",
       "      <td>1.0</td>\n",
       "      <td>1.00</td>\n",
       "      <td>3.0</td>\n",
       "    </tr>\n",
       "    <tr>\n",
       "      <th>TotalWorkingYears</th>\n",
       "      <td>1470.0</td>\n",
       "      <td>11.28</td>\n",
       "      <td>7.78</td>\n",
       "      <td>0.0</td>\n",
       "      <td>6.00</td>\n",
       "      <td>10.0</td>\n",
       "      <td>15.00</td>\n",
       "      <td>40.0</td>\n",
       "    </tr>\n",
       "    <tr>\n",
       "      <th>TrainingTimesLastYear</th>\n",
       "      <td>1470.0</td>\n",
       "      <td>2.80</td>\n",
       "      <td>1.29</td>\n",
       "      <td>0.0</td>\n",
       "      <td>2.00</td>\n",
       "      <td>3.0</td>\n",
       "      <td>3.00</td>\n",
       "      <td>6.0</td>\n",
       "    </tr>\n",
       "    <tr>\n",
       "      <th>WorkLifeBalance</th>\n",
       "      <td>1470.0</td>\n",
       "      <td>2.76</td>\n",
       "      <td>0.71</td>\n",
       "      <td>1.0</td>\n",
       "      <td>2.00</td>\n",
       "      <td>3.0</td>\n",
       "      <td>3.00</td>\n",
       "      <td>4.0</td>\n",
       "    </tr>\n",
       "    <tr>\n",
       "      <th>YearsAtCompany</th>\n",
       "      <td>1470.0</td>\n",
       "      <td>7.01</td>\n",
       "      <td>6.13</td>\n",
       "      <td>0.0</td>\n",
       "      <td>3.00</td>\n",
       "      <td>5.0</td>\n",
       "      <td>9.00</td>\n",
       "      <td>40.0</td>\n",
       "    </tr>\n",
       "    <tr>\n",
       "      <th>YearsInCurrentRole</th>\n",
       "      <td>1470.0</td>\n",
       "      <td>4.23</td>\n",
       "      <td>3.62</td>\n",
       "      <td>0.0</td>\n",
       "      <td>2.00</td>\n",
       "      <td>3.0</td>\n",
       "      <td>7.00</td>\n",
       "      <td>18.0</td>\n",
       "    </tr>\n",
       "    <tr>\n",
       "      <th>YearsSinceLastPromotion</th>\n",
       "      <td>1470.0</td>\n",
       "      <td>2.19</td>\n",
       "      <td>3.22</td>\n",
       "      <td>0.0</td>\n",
       "      <td>0.00</td>\n",
       "      <td>1.0</td>\n",
       "      <td>3.00</td>\n",
       "      <td>15.0</td>\n",
       "    </tr>\n",
       "    <tr>\n",
       "      <th>YearsWithCurrManager</th>\n",
       "      <td>1470.0</td>\n",
       "      <td>4.12</td>\n",
       "      <td>3.57</td>\n",
       "      <td>0.0</td>\n",
       "      <td>2.00</td>\n",
       "      <td>3.0</td>\n",
       "      <td>7.00</td>\n",
       "      <td>17.0</td>\n",
       "    </tr>\n",
       "  </tbody>\n",
       "</table>\n",
       "</div>"
      ],
      "text/plain": [
       "                           count      mean      std     min      25%      50%   \n",
       "Age                       1470.0     36.92     9.14    18.0    30.00     36.0  \\\n",
       "DailyRate                 1470.0    802.49   403.51   102.0   465.00    802.0   \n",
       "DistanceFromHome          1470.0      9.19     8.11     1.0     2.00      7.0   \n",
       "Education                 1470.0      2.91     1.02     1.0     2.00      3.0   \n",
       "EmployeeCount             1470.0      1.00     0.00     1.0     1.00      1.0   \n",
       "EmployeeNumber            1470.0   1024.87   602.02     1.0   491.25   1020.5   \n",
       "EnvironmentSatisfaction   1470.0      2.72     1.09     1.0     2.00      3.0   \n",
       "HourlyRate                1470.0     65.89    20.33    30.0    48.00     66.0   \n",
       "JobInvolvement            1470.0      2.73     0.71     1.0     2.00      3.0   \n",
       "JobLevel                  1470.0      2.06     1.11     1.0     1.00      2.0   \n",
       "JobSatisfaction           1470.0      2.73     1.10     1.0     2.00      3.0   \n",
       "MonthlyIncome             1470.0   6502.93  4707.96  1009.0  2911.00   4919.0   \n",
       "MonthlyRate               1470.0  14313.10  7117.79  2094.0  8047.00  14235.5   \n",
       "NumCompaniesWorked        1470.0      2.69     2.50     0.0     1.00      2.0   \n",
       "PercentSalaryHike         1470.0     15.21     3.66    11.0    12.00     14.0   \n",
       "PerformanceRating         1470.0      3.15     0.36     3.0     3.00      3.0   \n",
       "RelationshipSatisfaction  1470.0      2.71     1.08     1.0     2.00      3.0   \n",
       "StandardHours             1470.0     80.00     0.00    80.0    80.00     80.0   \n",
       "StockOptionLevel          1470.0      0.79     0.85     0.0     0.00      1.0   \n",
       "TotalWorkingYears         1470.0     11.28     7.78     0.0     6.00     10.0   \n",
       "TrainingTimesLastYear     1470.0      2.80     1.29     0.0     2.00      3.0   \n",
       "WorkLifeBalance           1470.0      2.76     0.71     1.0     2.00      3.0   \n",
       "YearsAtCompany            1470.0      7.01     6.13     0.0     3.00      5.0   \n",
       "YearsInCurrentRole        1470.0      4.23     3.62     0.0     2.00      3.0   \n",
       "YearsSinceLastPromotion   1470.0      2.19     3.22     0.0     0.00      1.0   \n",
       "YearsWithCurrManager      1470.0      4.12     3.57     0.0     2.00      3.0   \n",
       "\n",
       "                               75%      max  \n",
       "Age                          43.00     60.0  \n",
       "DailyRate                  1157.00   1499.0  \n",
       "DistanceFromHome             14.00     29.0  \n",
       "Education                     4.00      5.0  \n",
       "EmployeeCount                 1.00      1.0  \n",
       "EmployeeNumber             1555.75   2068.0  \n",
       "EnvironmentSatisfaction       4.00      4.0  \n",
       "HourlyRate                   83.75    100.0  \n",
       "JobInvolvement                3.00      4.0  \n",
       "JobLevel                      3.00      5.0  \n",
       "JobSatisfaction               4.00      4.0  \n",
       "MonthlyIncome              8379.00  19999.0  \n",
       "MonthlyRate               20461.50  26999.0  \n",
       "NumCompaniesWorked            4.00      9.0  \n",
       "PercentSalaryHike            18.00     25.0  \n",
       "PerformanceRating             3.00      4.0  \n",
       "RelationshipSatisfaction      4.00      4.0  \n",
       "StandardHours                80.00     80.0  \n",
       "StockOptionLevel              1.00      3.0  \n",
       "TotalWorkingYears            15.00     40.0  \n",
       "TrainingTimesLastYear         3.00      6.0  \n",
       "WorkLifeBalance               3.00      4.0  \n",
       "YearsAtCompany                9.00     40.0  \n",
       "YearsInCurrentRole            7.00     18.0  \n",
       "YearsSinceLastPromotion       3.00     15.0  \n",
       "YearsWithCurrManager          7.00     17.0  "
      ]
     },
     "execution_count": 5,
     "metadata": {},
     "output_type": "execute_result"
    }
   ],
   "source": [
    "jAttr_data.describe().round(2).T"
   ]
  },
  {
   "cell_type": "markdown",
   "id": "4a310e58",
   "metadata": {},
   "source": [
    "## Checking and removing unnecessary features"
   ]
  },
  {
   "cell_type": "code",
   "execution_count": 6,
   "id": "57099cb9",
   "metadata": {},
   "outputs": [
    {
     "data": {
      "text/plain": [
       "EmployeeCount\n",
       "1    1470\n",
       "Name: count, dtype: int64"
      ]
     },
     "execution_count": 6,
     "metadata": {},
     "output_type": "execute_result"
    }
   ],
   "source": [
    "jAttr_data['EmployeeCount'].value_counts()"
   ]
  },
  {
   "cell_type": "markdown",
   "id": "1760311a",
   "metadata": {},
   "source": [
    "***- From above observations it can be concluded that the EmployeeCount column has only one value and hence is a insignificant column for prediction purpose and needs to be dropped.***"
   ]
  },
  {
   "cell_type": "code",
   "execution_count": 7,
   "id": "516136f6",
   "metadata": {},
   "outputs": [
    {
     "data": {
      "text/plain": [
       "Over18\n",
       "Y    1470\n",
       "Name: count, dtype: int64"
      ]
     },
     "execution_count": 7,
     "metadata": {},
     "output_type": "execute_result"
    }
   ],
   "source": [
    "jAttr_data['Over18'].value_counts()"
   ]
  },
  {
   "cell_type": "markdown",
   "id": "4fa8061f",
   "metadata": {},
   "source": [
    "***- A similar thing can be observed in the column of Over18. Which indicates all the employees are Over 18 years of age and hence the column need not to be considered for model training purpose.***"
   ]
  },
  {
   "cell_type": "markdown",
   "id": "922e6da6",
   "metadata": {},
   "source": [
    "***- Employee Number has nothing to do with the Attrition hence it can be safely dropped.***"
   ]
  },
  {
   "cell_type": "code",
   "execution_count": 8,
   "id": "f53aed75",
   "metadata": {},
   "outputs": [
    {
     "data": {
      "text/plain": [
       "StandardHours\n",
       "80    1470\n",
       "Name: count, dtype: int64"
      ]
     },
     "execution_count": 8,
     "metadata": {},
     "output_type": "execute_result"
    }
   ],
   "source": [
    "jAttr_data['StandardHours'].value_counts()"
   ]
  },
  {
   "cell_type": "markdown",
   "id": "c46cadb6",
   "metadata": {},
   "source": [
    "***- This value can also be droped as entire column has same value***"
   ]
  },
  {
   "cell_type": "code",
   "execution_count": 9,
   "id": "49f54715",
   "metadata": {},
   "outputs": [
    {
     "data": {
      "text/plain": [
       "Age                          int64\n",
       "YearsInCurrentRole           int64\n",
       "YearsAtCompany               int64\n",
       "WorkLifeBalance              int64\n",
       "TrainingTimesLastYear        int64\n",
       "TotalWorkingYears            int64\n",
       "StockOptionLevel             int64\n",
       "RelationshipSatisfaction     int64\n",
       "PerformanceRating            int64\n",
       "PercentSalaryHike            int64\n",
       "NumCompaniesWorked           int64\n",
       "MonthlyRate                  int64\n",
       "MonthlyIncome                int64\n",
       "YearsSinceLastPromotion      int64\n",
       "YearsWithCurrManager         int64\n",
       "JobLevel                     int64\n",
       "JobInvolvement               int64\n",
       "HourlyRate                   int64\n",
       "EnvironmentSatisfaction      int64\n",
       "Education                    int64\n",
       "DistanceFromHome             int64\n",
       "DailyRate                    int64\n",
       "JobSatisfaction              int64\n",
       "JobRole                     object\n",
       "OverTime                    object\n",
       "Gender                      object\n",
       "EducationField              object\n",
       "Department                  object\n",
       "BusinessTravel              object\n",
       "Attrition                   object\n",
       "MaritalStatus               object\n",
       "dtype: object"
      ]
     },
     "execution_count": 9,
     "metadata": {},
     "output_type": "execute_result"
    }
   ],
   "source": [
    "jAttr_data.drop(['EmployeeCount','EmployeeNumber','Over18','StandardHours'],axis=1,inplace=True)\n",
    "jAttr_data.dtypes.sort_values()"
   ]
  },
  {
   "cell_type": "markdown",
   "id": "48d6a451",
   "metadata": {},
   "source": [
    "## Checking the distribution of Target variable-'Attrition' "
   ]
  },
  {
   "cell_type": "code",
   "execution_count": 10,
   "id": "344f00e0",
   "metadata": {},
   "outputs": [
    {
     "data": {
      "image/png": "[encoded data removed]",
      "text/plain": [
       "<Figure size 640x480 with 1 Axes>"
      ]
     },
     "metadata": {},
     "output_type": "display_data"
    }
   ],
   "source": [
    "attrition_counts = jAttr_data['Attrition'].value_counts()\n",
    "labels = ['Retention', 'Attrition']\n",
    "plt.pie(attrition_counts, labels=labels, autopct='%1.2f%%',colors=['blue','red'])\n",
    "plt.title('Retention vs Attrition Distribution')\n",
    "plt.show()"
   ]
  },
  {
   "cell_type": "markdown",
   "id": "74932f43",
   "metadata": {},
   "source": [
    "## Splitting Training and Testing data"
   ]
  },
  {
   "cell_type": "code",
   "execution_count": 11,
   "id": "49a4ff34",
   "metadata": {},
   "outputs": [
    {
     "name": "stdout",
     "output_type": "stream",
     "text": [
      "Data is split into training and validation sub-datasets\n"
     ]
    }
   ],
   "source": [
    "# define prediction target (Y-variable)\n",
    "y = jAttr_data.Attrition\n",
    "# define features (i.e. a list of both numerical and transformed categorical variables)\n",
    "X = jAttr_data.drop(['Attrition'], axis=1)\n",
    "\n",
    "# split data into training and validation subsets\n",
    "X_train, X_test, y_train, y_test = train_test_split(X, y, train_size=0.7, test_size=0.3, random_state=0)\n",
    "\n",
    "print(\"Data is split into training and validation sub-datasets\")"
   ]
  },
  {
   "cell_type": "code",
   "execution_count": 12,
   "id": "80aad190",
   "metadata": {},
   "outputs": [
    {
     "data": {
      "text/plain": [
       "((1029, 30), (1029,))"
      ]
     },
     "execution_count": 12,
     "metadata": {},
     "output_type": "execute_result"
    }
   ],
   "source": [
    "X_train.shape, y_train.shape"
   ]
  },
  {
   "cell_type": "code",
   "execution_count": 13,
   "id": "6003ccc9",
   "metadata": {},
   "outputs": [
    {
     "data": {
      "text/plain": [
       "((441, 30), (441,))"
      ]
     },
     "execution_count": 13,
     "metadata": {},
     "output_type": "execute_result"
    }
   ],
   "source": [
    "X_test.shape, y_test.shape"
   ]
  },
  {
   "cell_type": "code",
   "execution_count": 14,
   "id": "94bdde5b",
   "metadata": {},
   "outputs": [
    {
     "data": {
      "text/plain": [
       "Age                          int64\n",
       "YearsInCurrentRole           int64\n",
       "YearsAtCompany               int64\n",
       "WorkLifeBalance              int64\n",
       "TrainingTimesLastYear        int64\n",
       "TotalWorkingYears            int64\n",
       "StockOptionLevel             int64\n",
       "RelationshipSatisfaction     int64\n",
       "PerformanceRating            int64\n",
       "PercentSalaryHike            int64\n",
       "NumCompaniesWorked           int64\n",
       "MonthlyRate                  int64\n",
       "MonthlyIncome                int64\n",
       "YearsSinceLastPromotion      int64\n",
       "YearsWithCurrManager         int64\n",
       "JobLevel                     int64\n",
       "JobInvolvement               int64\n",
       "HourlyRate                   int64\n",
       "EnvironmentSatisfaction      int64\n",
       "Education                    int64\n",
       "DistanceFromHome             int64\n",
       "DailyRate                    int64\n",
       "JobSatisfaction              int64\n",
       "JobRole                     object\n",
       "OverTime                    object\n",
       "Gender                      object\n",
       "EducationField              object\n",
       "Department                  object\n",
       "BusinessTravel              object\n",
       "MaritalStatus               object\n",
       "dtype: object"
      ]
     },
     "execution_count": 14,
     "metadata": {},
     "output_type": "execute_result"
    }
   ],
   "source": [
    "X_train.dtypes.sort_values()"
   ]
  },
  {
   "cell_type": "markdown",
   "id": "abf18e2d",
   "metadata": {},
   "source": [
    "## Categorical variables encoding"
   ]
  },
  {
   "cell_type": "code",
   "execution_count": 15,
   "id": "9d8c3495",
   "metadata": {},
   "outputs": [
    {
     "name": "stdout",
     "output_type": "stream",
     "text": [
      "Numerical features: \n",
      "Age\n",
      "DailyRate\n",
      "DistanceFromHome\n",
      "Education\n",
      "EnvironmentSatisfaction\n",
      "HourlyRate\n",
      "JobInvolvement\n",
      "JobLevel\n",
      "JobSatisfaction\n",
      "MonthlyIncome\n",
      "MonthlyRate\n",
      "NumCompaniesWorked\n",
      "PercentSalaryHike\n",
      "PerformanceRating\n",
      "RelationshipSatisfaction\n",
      "StockOptionLevel\n",
      "TotalWorkingYears\n",
      "TrainingTimesLastYear\n",
      "WorkLifeBalance\n",
      "YearsAtCompany\n",
      "YearsInCurrentRole\n",
      "YearsSinceLastPromotion\n",
      "YearsWithCurrManager\n",
      "Count:  23\n"
     ]
    }
   ],
   "source": [
    "# extract the names of numerical variables X_train DataFrame\n",
    "numerical_features = [col for col in X_train.columns if X_train[col].dtype in ['int64', 'float64']]\n",
    "print(\"Numerical features: \")\n",
    "for i in numerical_features:\n",
    "    print(i)\n",
    "print(\"Count: \", len(numerical_features))"
   ]
  },
  {
   "cell_type": "code",
   "execution_count": 16,
   "id": "607c2d19",
   "metadata": {},
   "outputs": [
    {
     "name": "stdout",
     "output_type": "stream",
     "text": [
      "Categorical features: \n",
      "BusinessTravel BusinessTravel\n",
      "Travel_Rarely        1043\n",
      "Travel_Frequently     277\n",
      "Non-Travel            150\n",
      "Name: count, dtype: int64\n",
      "\n",
      "Department Department\n",
      "Research & Development    961\n",
      "Sales                     446\n",
      "Human Resources            63\n",
      "Name: count, dtype: int64\n",
      "\n",
      "EducationField EducationField\n",
      "Life Sciences       606\n",
      "Medical             464\n",
      "Marketing           159\n",
      "Technical Degree    132\n",
      "Other                82\n",
      "Human Resources      27\n",
      "Name: count, dtype: int64\n",
      "\n",
      "Gender Gender\n",
      "Male      882\n",
      "Female    588\n",
      "Name: count, dtype: int64\n",
      "\n",
      "JobRole JobRole\n",
      "Sales Executive              326\n",
      "Research Scientist           292\n",
      "Laboratory Technician        259\n",
      "Manufacturing Director       145\n",
      "Healthcare Representative    131\n",
      "Manager                      102\n",
      "Sales Representative          83\n",
      "Research Director             80\n",
      "Human Resources               52\n",
      "Name: count, dtype: int64\n",
      "\n",
      "MaritalStatus MaritalStatus\n",
      "Married     673\n",
      "Single      470\n",
      "Divorced    327\n",
      "Name: count, dtype: int64\n",
      "\n",
      "OverTime OverTime\n",
      "No     1054\n",
      "Yes     416\n",
      "Name: count, dtype: int64\n",
      "\n",
      "Count:  7\n"
     ]
    }
   ],
   "source": [
    "# Extract the names of categorical variables from the X_train DataFrame\n",
    "categorical_features = [col for col in X_train.columns if X_train[col].dtype == \"object\"]\n",
    "print(\"Categorical features: \")\n",
    "for i in categorical_features:\n",
    "    print(i,jAttr_data[i].value_counts())\n",
    "    print()\n",
    "print('Count: ', len(categorical_features))"
   ]
  },
  {
   "cell_type": "code",
   "execution_count": 17,
   "id": "011b017c",
   "metadata": {},
   "outputs": [],
   "source": [
    "#encode binary features\n",
    "\n",
    "y_train = y_train.replace({'No': 0, 'Yes': 1}) \n",
    "y_valid = y_test.replace({'No': 0, 'Yes': 1}) \n",
    "\n",
    "gender_dictionary = {\"Male\": 1, \"Female\": 0}\n",
    "X_train['Gender'] = [gender_dictionary[g] for g in X_train['Gender']]\n",
    "X_test['Gender'] = [gender_dictionary[g] for g in X_test['Gender']]\n",
    "\n",
    "over_time_dictionary = {\"Yes\": 1, \"No\": 0}\n",
    "X_train['OverTime'] = [over_time_dictionary[o] for o in X_train['OverTime']]\n",
    "X_test['OverTime'] = [over_time_dictionary[o] for o in X_test['OverTime']]\n",
    "\n"
   ]
  },
  {
   "cell_type": "code",
   "execution_count": 18,
   "id": "f2b7187e",
   "metadata": {},
   "outputs": [],
   "source": [
    "# encode ordinal feature \n",
    "business_travel_dictionary = {\"Non-Travel\": 0, \"Travel_Rarely\": 1, \"Travel_Frequently\": 2}\n",
    "X_train['BusinessTravel'] = [business_travel_dictionary[b] for b in X_train['BusinessTravel']]\n",
    "X_test['BusinessTravel'] = [business_travel_dictionary[b] for b in X_test['BusinessTravel']]\n",
    "\n",
    "marital_status_dictionary = {\"Single\": 0, \"Married\": 1, \"Divorced\": 2}\n",
    "X_train['MaritalStatus'] = [marital_status_dictionary[b] for b in X_train['MaritalStatus']]\n",
    "X_test['MaritalStatus'] = [marital_status_dictionary[b] for b in X_test['MaritalStatus']]"
   ]
  },
  {
   "cell_type": "code",
   "execution_count": 19,
   "id": "687a2e54",
   "metadata": {},
   "outputs": [
    {
     "data": {
      "text/plain": [
       "Age                          int64\n",
       "YearsInCurrentRole           int64\n",
       "YearsAtCompany               int64\n",
       "WorkLifeBalance              int64\n",
       "TrainingTimesLastYear        int64\n",
       "TotalWorkingYears            int64\n",
       "StockOptionLevel             int64\n",
       "RelationshipSatisfaction     int64\n",
       "PerformanceRating            int64\n",
       "PercentSalaryHike            int64\n",
       "OverTime                     int64\n",
       "NumCompaniesWorked           int64\n",
       "MonthlyRate                  int64\n",
       "MonthlyIncome                int64\n",
       "MaritalStatus                int64\n",
       "JobSatisfaction              int64\n",
       "JobLevel                     int64\n",
       "JobInvolvement               int64\n",
       "HourlyRate                   int64\n",
       "Gender                       int64\n",
       "EnvironmentSatisfaction      int64\n",
       "Education                    int64\n",
       "DistanceFromHome             int64\n",
       "DailyRate                    int64\n",
       "BusinessTravel               int64\n",
       "YearsSinceLastPromotion      int64\n",
       "YearsWithCurrManager         int64\n",
       "JobRole                     object\n",
       "EducationField              object\n",
       "Department                  object\n",
       "dtype: object"
      ]
     },
     "execution_count": 19,
     "metadata": {},
     "output_type": "execute_result"
    }
   ],
   "source": [
    "X_train.dtypes.sort_values()"
   ]
  },
  {
   "cell_type": "code",
   "execution_count": 25,
   "id": "dea0eb8c",
   "metadata": {},
   "outputs": [],
   "source": [
    "department_dictionary = {\"Research & Development\": 0, \"Sales\": 1, \"Human Resources\": 2}\n",
    "X_train['Department'] = [department_dictionary[b] for b in X_train['Department']]\n",
    "X_test['Department'] = [department_dictionary[b] for b in X_test['Department']]"
   ]
  },
  {
   "cell_type": "code",
   "execution_count": 26,
   "id": "abe40b8d",
   "metadata": {},
   "outputs": [
    {
     "name": "stdout",
     "output_type": "stream",
     "text": [
      "JobRole\n",
      "Sales Executive              228\n",
      "Research Scientist           222\n",
      "Laboratory Technician        175\n",
      "Manufacturing Director        94\n",
      "Healthcare Representative     87\n",
      "Manager                       70\n",
      "Research Director             59\n",
      "Sales Representative          56\n",
      "Human Resources               38\n",
      "Name: count, dtype: int64\n"
     ]
    },
    {
     "data": {
      "text/plain": [
       "Department\n",
       "0    674\n",
       "1    308\n",
       "2     47\n",
       "Name: count, dtype: int64"
      ]
     },
     "execution_count": 26,
     "metadata": {},
     "output_type": "execute_result"
    }
   ],
   "source": [
    "print(X_train['JobRole'].value_counts())\n",
    "# X_train['EducationFeild'].value_counts()\n",
    "X_train['Department'].value_counts()"
   ]
  },
  {
   "cell_type": "code",
   "execution_count": 20,
   "id": "235253d0",
   "metadata": {},
   "outputs": [],
   "source": [
    "# X_train.hist(bins=50,figsize=(20,20))"
   ]
  },
  {
   "cell_type": "code",
   "execution_count": 27,
   "id": "052dfdbf",
   "metadata": {},
   "outputs": [
    {
     "ename": "ValueError",
     "evalue": "\nAll the 10830 fits failed.\nIt is very likely that your model is misconfigured.\nYou can try to debug the error by setting error_score='raise'.\n\nBelow are more details about the failures:\n--------------------------------------------------------------------------------\n2166 fits failed with the following error:\nTraceback (most recent call last):\n  File \"e:\\PBL_sem_4\\empAttritionPBLenv\\Lib\\site-packages\\sklearn\\model_selection\\_validation.py\", line 686, in _fit_and_score\n    estimator.fit(X_train, y_train, **fit_params)\n  File \"e:\\PBL_sem_4\\empAttritionPBLenv\\Lib\\site-packages\\sklearn\\tree\\_classes.py\", line 889, in fit\n    super().fit(\n  File \"e:\\PBL_sem_4\\empAttritionPBLenv\\Lib\\site-packages\\sklearn\\tree\\_classes.py\", line 186, in fit\n    X, y = self._validate_data(\n           ^^^^^^^^^^^^^^^^^^^^\n  File \"e:\\PBL_sem_4\\empAttritionPBLenv\\Lib\\site-packages\\sklearn\\base.py\", line 579, in _validate_data\n    X = check_array(X, input_name=\"X\", **check_X_params)\n        ^^^^^^^^^^^^^^^^^^^^^^^^^^^^^^^^^^^^^^^^^^^^^^^^\n  File \"e:\\PBL_sem_4\\empAttritionPBLenv\\Lib\\site-packages\\sklearn\\utils\\validation.py\", line 879, in check_array\n    array = _asarray_with_order(array, order=order, dtype=dtype, xp=xp)\n            ^^^^^^^^^^^^^^^^^^^^^^^^^^^^^^^^^^^^^^^^^^^^^^^^^^^^^^^^^^^\n  File \"e:\\PBL_sem_4\\empAttritionPBLenv\\Lib\\site-packages\\sklearn\\utils\\_array_api.py\", line 185, in _asarray_with_order\n    array = numpy.asarray(array, order=order, dtype=dtype)\n            ^^^^^^^^^^^^^^^^^^^^^^^^^^^^^^^^^^^^^^^^^^^^^^\n  File \"e:\\PBL_sem_4\\empAttritionPBLenv\\Lib\\site-packages\\pandas\\core\\generic.py\", line 1998, in __array__\n    arr = np.asarray(values, dtype=dtype)\n          ^^^^^^^^^^^^^^^^^^^^^^^^^^^^^^^\nValueError: could not convert string to float: 'Life Sciences'\n\n--------------------------------------------------------------------------------\n8664 fits failed with the following error:\nTraceback (most recent call last):\n  File \"e:\\PBL_sem_4\\empAttritionPBLenv\\Lib\\site-packages\\sklearn\\model_selection\\_validation.py\", line 686, in _fit_and_score\n    estimator.fit(X_train, y_train, **fit_params)\n  File \"e:\\PBL_sem_4\\empAttritionPBLenv\\Lib\\site-packages\\sklearn\\tree\\_classes.py\", line 889, in fit\n    super().fit(\n  File \"e:\\PBL_sem_4\\empAttritionPBLenv\\Lib\\site-packages\\sklearn\\tree\\_classes.py\", line 186, in fit\n    X, y = self._validate_data(\n           ^^^^^^^^^^^^^^^^^^^^\n  File \"e:\\PBL_sem_4\\empAttritionPBLenv\\Lib\\site-packages\\sklearn\\base.py\", line 579, in _validate_data\n    X = check_array(X, input_name=\"X\", **check_X_params)\n        ^^^^^^^^^^^^^^^^^^^^^^^^^^^^^^^^^^^^^^^^^^^^^^^^\n  File \"e:\\PBL_sem_4\\empAttritionPBLenv\\Lib\\site-packages\\sklearn\\utils\\validation.py\", line 879, in check_array\n    array = _asarray_with_order(array, order=order, dtype=dtype, xp=xp)\n            ^^^^^^^^^^^^^^^^^^^^^^^^^^^^^^^^^^^^^^^^^^^^^^^^^^^^^^^^^^^\n  File \"e:\\PBL_sem_4\\empAttritionPBLenv\\Lib\\site-packages\\sklearn\\utils\\_array_api.py\", line 185, in _asarray_with_order\n    array = numpy.asarray(array, order=order, dtype=dtype)\n            ^^^^^^^^^^^^^^^^^^^^^^^^^^^^^^^^^^^^^^^^^^^^^^\n  File \"e:\\PBL_sem_4\\empAttritionPBLenv\\Lib\\site-packages\\pandas\\core\\generic.py\", line 1998, in __array__\n    arr = np.asarray(values, dtype=dtype)\n          ^^^^^^^^^^^^^^^^^^^^^^^^^^^^^^^\nValueError: could not convert string to float: 'Marketing'\n",
     "output_type": "error",
     "traceback": [
      "\u001b[1;31m---------------------------------------------------------------------------\u001b[0m",
      "\u001b[1;31mValueError\u001b[0m                                Traceback (most recent call last)",
      "Cell \u001b[1;32mIn[27], line 20\u001b[0m\n\u001b[0;32m     12\u001b[0m tree_clf \u001b[39m=\u001b[39m DecisionTreeClassifier(random_state\u001b[39m=\u001b[39m\u001b[39m42\u001b[39m)\n\u001b[0;32m     13\u001b[0m tree_cv \u001b[39m=\u001b[39m GridSearchCV(\n\u001b[0;32m     14\u001b[0m     tree_clf, \n\u001b[0;32m     15\u001b[0m     params, \n\u001b[0;32m     16\u001b[0m     scoring\u001b[39m=\u001b[39m\u001b[39m\"\u001b[39m\u001b[39mf1\u001b[39m\u001b[39m\"\u001b[39m, \n\u001b[0;32m     17\u001b[0m     n_jobs\u001b[39m=\u001b[39m\u001b[39m-\u001b[39m\u001b[39m1\u001b[39m, \n\u001b[0;32m     18\u001b[0m )\n\u001b[1;32m---> 20\u001b[0m tree_cv\u001b[39m.\u001b[39mfit(X_train, y_train)\n\u001b[0;32m     21\u001b[0m best_params \u001b[39m=\u001b[39m tree_cv\u001b[39m.\u001b[39mbest_params_\n\u001b[0;32m     22\u001b[0m \u001b[39mprint\u001b[39m(\u001b[39mf\u001b[39m\u001b[39m\"\u001b[39m\u001b[39mBest paramters: \u001b[39m\u001b[39m{\u001b[39;00mbest_params\u001b[39m}\u001b[39;00m\u001b[39m)\u001b[39m\u001b[39m\"\u001b[39m)\n",
      "File \u001b[1;32me:\\PBL_sem_4\\empAttritionPBLenv\\Lib\\site-packages\\sklearn\\model_selection\\_search.py:874\u001b[0m, in \u001b[0;36mBaseSearchCV.fit\u001b[1;34m(self, X, y, groups, **fit_params)\u001b[0m\n\u001b[0;32m    868\u001b[0m     results \u001b[39m=\u001b[39m \u001b[39mself\u001b[39m\u001b[39m.\u001b[39m_format_results(\n\u001b[0;32m    869\u001b[0m         all_candidate_params, n_splits, all_out, all_more_results\n\u001b[0;32m    870\u001b[0m     )\n\u001b[0;32m    872\u001b[0m     \u001b[39mreturn\u001b[39;00m results\n\u001b[1;32m--> 874\u001b[0m \u001b[39mself\u001b[39m\u001b[39m.\u001b[39m_run_search(evaluate_candidates)\n\u001b[0;32m    876\u001b[0m \u001b[39m# multimetric is determined here because in the case of a callable\u001b[39;00m\n\u001b[0;32m    877\u001b[0m \u001b[39m# self.scoring the return type is only known after calling\u001b[39;00m\n\u001b[0;32m    878\u001b[0m first_test_score \u001b[39m=\u001b[39m all_out[\u001b[39m0\u001b[39m][\u001b[39m\"\u001b[39m\u001b[39mtest_scores\u001b[39m\u001b[39m\"\u001b[39m]\n",
      "File \u001b[1;32me:\\PBL_sem_4\\empAttritionPBLenv\\Lib\\site-packages\\sklearn\\model_selection\\_search.py:1388\u001b[0m, in \u001b[0;36mGridSearchCV._run_search\u001b[1;34m(self, evaluate_candidates)\u001b[0m\n\u001b[0;32m   1386\u001b[0m \u001b[39mdef\u001b[39;00m \u001b[39m_run_search\u001b[39m(\u001b[39mself\u001b[39m, evaluate_candidates):\n\u001b[0;32m   1387\u001b[0m     \u001b[39m\"\"\"Search all candidates in param_grid\"\"\"\u001b[39;00m\n\u001b[1;32m-> 1388\u001b[0m     evaluate_candidates(ParameterGrid(\u001b[39mself\u001b[39m\u001b[39m.\u001b[39mparam_grid))\n",
      "File \u001b[1;32me:\\PBL_sem_4\\empAttritionPBLenv\\Lib\\site-packages\\sklearn\\model_selection\\_search.py:851\u001b[0m, in \u001b[0;36mBaseSearchCV.fit.<locals>.evaluate_candidates\u001b[1;34m(candidate_params, cv, more_results)\u001b[0m\n\u001b[0;32m    844\u001b[0m \u001b[39melif\u001b[39;00m \u001b[39mlen\u001b[39m(out) \u001b[39m!=\u001b[39m n_candidates \u001b[39m*\u001b[39m n_splits:\n\u001b[0;32m    845\u001b[0m     \u001b[39mraise\u001b[39;00m \u001b[39mValueError\u001b[39;00m(\n\u001b[0;32m    846\u001b[0m         \u001b[39m\"\u001b[39m\u001b[39mcv.split and cv.get_n_splits returned \u001b[39m\u001b[39m\"\u001b[39m\n\u001b[0;32m    847\u001b[0m         \u001b[39m\"\u001b[39m\u001b[39minconsistent results. Expected \u001b[39m\u001b[39m{}\u001b[39;00m\u001b[39m \u001b[39m\u001b[39m\"\u001b[39m\n\u001b[0;32m    848\u001b[0m         \u001b[39m\"\u001b[39m\u001b[39msplits, got \u001b[39m\u001b[39m{}\u001b[39;00m\u001b[39m\"\u001b[39m\u001b[39m.\u001b[39mformat(n_splits, \u001b[39mlen\u001b[39m(out) \u001b[39m/\u001b[39m\u001b[39m/\u001b[39m n_candidates)\n\u001b[0;32m    849\u001b[0m     )\n\u001b[1;32m--> 851\u001b[0m _warn_or_raise_about_fit_failures(out, \u001b[39mself\u001b[39m\u001b[39m.\u001b[39merror_score)\n\u001b[0;32m    853\u001b[0m \u001b[39m# For callable self.scoring, the return type is only know after\u001b[39;00m\n\u001b[0;32m    854\u001b[0m \u001b[39m# calling. If the return type is a dictionary, the error scores\u001b[39;00m\n\u001b[0;32m    855\u001b[0m \u001b[39m# can now be inserted with the correct key. The type checking\u001b[39;00m\n\u001b[0;32m    856\u001b[0m \u001b[39m# of out will be done in `_insert_error_scores`.\u001b[39;00m\n\u001b[0;32m    857\u001b[0m \u001b[39mif\u001b[39;00m callable(\u001b[39mself\u001b[39m\u001b[39m.\u001b[39mscoring):\n",
      "File \u001b[1;32me:\\PBL_sem_4\\empAttritionPBLenv\\Lib\\site-packages\\sklearn\\model_selection\\_validation.py:367\u001b[0m, in \u001b[0;36m_warn_or_raise_about_fit_failures\u001b[1;34m(results, error_score)\u001b[0m\n\u001b[0;32m    360\u001b[0m \u001b[39mif\u001b[39;00m num_failed_fits \u001b[39m==\u001b[39m num_fits:\n\u001b[0;32m    361\u001b[0m     all_fits_failed_message \u001b[39m=\u001b[39m (\n\u001b[0;32m    362\u001b[0m         \u001b[39mf\u001b[39m\u001b[39m\"\u001b[39m\u001b[39m\\n\u001b[39;00m\u001b[39mAll the \u001b[39m\u001b[39m{\u001b[39;00mnum_fits\u001b[39m}\u001b[39;00m\u001b[39m fits failed.\u001b[39m\u001b[39m\\n\u001b[39;00m\u001b[39m\"\u001b[39m\n\u001b[0;32m    363\u001b[0m         \u001b[39m\"\u001b[39m\u001b[39mIt is very likely that your model is misconfigured.\u001b[39m\u001b[39m\\n\u001b[39;00m\u001b[39m\"\u001b[39m\n\u001b[0;32m    364\u001b[0m         \u001b[39m\"\u001b[39m\u001b[39mYou can try to debug the error by setting error_score=\u001b[39m\u001b[39m'\u001b[39m\u001b[39mraise\u001b[39m\u001b[39m'\u001b[39m\u001b[39m.\u001b[39m\u001b[39m\\n\u001b[39;00m\u001b[39m\\n\u001b[39;00m\u001b[39m\"\u001b[39m\n\u001b[0;32m    365\u001b[0m         \u001b[39mf\u001b[39m\u001b[39m\"\u001b[39m\u001b[39mBelow are more details about the failures:\u001b[39m\u001b[39m\\n\u001b[39;00m\u001b[39m{\u001b[39;00mfit_errors_summary\u001b[39m}\u001b[39;00m\u001b[39m\"\u001b[39m\n\u001b[0;32m    366\u001b[0m     )\n\u001b[1;32m--> 367\u001b[0m     \u001b[39mraise\u001b[39;00m \u001b[39mValueError\u001b[39;00m(all_fits_failed_message)\n\u001b[0;32m    369\u001b[0m \u001b[39melse\u001b[39;00m:\n\u001b[0;32m    370\u001b[0m     some_fits_failed_message \u001b[39m=\u001b[39m (\n\u001b[0;32m    371\u001b[0m         \u001b[39mf\u001b[39m\u001b[39m\"\u001b[39m\u001b[39m\\n\u001b[39;00m\u001b[39m{\u001b[39;00mnum_failed_fits\u001b[39m}\u001b[39;00m\u001b[39m fits failed out of a total of \u001b[39m\u001b[39m{\u001b[39;00mnum_fits\u001b[39m}\u001b[39;00m\u001b[39m.\u001b[39m\u001b[39m\\n\u001b[39;00m\u001b[39m\"\u001b[39m\n\u001b[0;32m    372\u001b[0m         \u001b[39m\"\u001b[39m\u001b[39mThe score on these train-test partitions for these parameters\u001b[39m\u001b[39m\"\u001b[39m\n\u001b[1;32m   (...)\u001b[0m\n\u001b[0;32m    376\u001b[0m         \u001b[39mf\u001b[39m\u001b[39m\"\u001b[39m\u001b[39mBelow are more details about the failures:\u001b[39m\u001b[39m\\n\u001b[39;00m\u001b[39m{\u001b[39;00mfit_errors_summary\u001b[39m}\u001b[39;00m\u001b[39m\"\u001b[39m\n\u001b[0;32m    377\u001b[0m     )\n",
      "\u001b[1;31mValueError\u001b[0m: \nAll the 10830 fits failed.\nIt is very likely that your model is misconfigured.\nYou can try to debug the error by setting error_score='raise'.\n\nBelow are more details about the failures:\n--------------------------------------------------------------------------------\n2166 fits failed with the following error:\nTraceback (most recent call last):\n  File \"e:\\PBL_sem_4\\empAttritionPBLenv\\Lib\\site-packages\\sklearn\\model_selection\\_validation.py\", line 686, in _fit_and_score\n    estimator.fit(X_train, y_train, **fit_params)\n  File \"e:\\PBL_sem_4\\empAttritionPBLenv\\Lib\\site-packages\\sklearn\\tree\\_classes.py\", line 889, in fit\n    super().fit(\n  File \"e:\\PBL_sem_4\\empAttritionPBLenv\\Lib\\site-packages\\sklearn\\tree\\_classes.py\", line 186, in fit\n    X, y = self._validate_data(\n           ^^^^^^^^^^^^^^^^^^^^\n  File \"e:\\PBL_sem_4\\empAttritionPBLenv\\Lib\\site-packages\\sklearn\\base.py\", line 579, in _validate_data\n    X = check_array(X, input_name=\"X\", **check_X_params)\n        ^^^^^^^^^^^^^^^^^^^^^^^^^^^^^^^^^^^^^^^^^^^^^^^^\n  File \"e:\\PBL_sem_4\\empAttritionPBLenv\\Lib\\site-packages\\sklearn\\utils\\validation.py\", line 879, in check_array\n    array = _asarray_with_order(array, order=order, dtype=dtype, xp=xp)\n            ^^^^^^^^^^^^^^^^^^^^^^^^^^^^^^^^^^^^^^^^^^^^^^^^^^^^^^^^^^^\n  File \"e:\\PBL_sem_4\\empAttritionPBLenv\\Lib\\site-packages\\sklearn\\utils\\_array_api.py\", line 185, in _asarray_with_order\n    array = numpy.asarray(array, order=order, dtype=dtype)\n            ^^^^^^^^^^^^^^^^^^^^^^^^^^^^^^^^^^^^^^^^^^^^^^\n  File \"e:\\PBL_sem_4\\empAttritionPBLenv\\Lib\\site-packages\\pandas\\core\\generic.py\", line 1998, in __array__\n    arr = np.asarray(values, dtype=dtype)\n          ^^^^^^^^^^^^^^^^^^^^^^^^^^^^^^^\nValueError: could not convert string to float: 'Life Sciences'\n\n--------------------------------------------------------------------------------\n8664 fits failed with the following error:\nTraceback (most recent call last):\n  File \"e:\\PBL_sem_4\\empAttritionPBLenv\\Lib\\site-packages\\sklearn\\model_selection\\_validation.py\", line 686, in _fit_and_score\n    estimator.fit(X_train, y_train, **fit_params)\n  File \"e:\\PBL_sem_4\\empAttritionPBLenv\\Lib\\site-packages\\sklearn\\tree\\_classes.py\", line 889, in fit\n    super().fit(\n  File \"e:\\PBL_sem_4\\empAttritionPBLenv\\Lib\\site-packages\\sklearn\\tree\\_classes.py\", line 186, in fit\n    X, y = self._validate_data(\n           ^^^^^^^^^^^^^^^^^^^^\n  File \"e:\\PBL_sem_4\\empAttritionPBLenv\\Lib\\site-packages\\sklearn\\base.py\", line 579, in _validate_data\n    X = check_array(X, input_name=\"X\", **check_X_params)\n        ^^^^^^^^^^^^^^^^^^^^^^^^^^^^^^^^^^^^^^^^^^^^^^^^\n  File \"e:\\PBL_sem_4\\empAttritionPBLenv\\Lib\\site-packages\\sklearn\\utils\\validation.py\", line 879, in check_array\n    array = _asarray_with_order(array, order=order, dtype=dtype, xp=xp)\n            ^^^^^^^^^^^^^^^^^^^^^^^^^^^^^^^^^^^^^^^^^^^^^^^^^^^^^^^^^^^\n  File \"e:\\PBL_sem_4\\empAttritionPBLenv\\Lib\\site-packages\\sklearn\\utils\\_array_api.py\", line 185, in _asarray_with_order\n    array = numpy.asarray(array, order=order, dtype=dtype)\n            ^^^^^^^^^^^^^^^^^^^^^^^^^^^^^^^^^^^^^^^^^^^^^^\n  File \"e:\\PBL_sem_4\\empAttritionPBLenv\\Lib\\site-packages\\pandas\\core\\generic.py\", line 1998, in __array__\n    arr = np.asarray(values, dtype=dtype)\n          ^^^^^^^^^^^^^^^^^^^^^^^^^^^^^^^\nValueError: could not convert string to float: 'Marketing'\n"
     ]
    }
   ],
   "source": [
    "from sklearn.tree import DecisionTreeClassifier\n",
    "from sklearn.model_selection import GridSearchCV\n",
    "\n",
    "params = {\n",
    "    \"criterion\":(\"gini\", \"entropy\"), \n",
    "    \"max_depth\":(list(range(1, 20))), \n",
    "    \"min_samples_split\":[2, 3, 4], \n",
    "    \"min_samples_leaf\":list(range(1, 20)), \n",
    "}\n",
    "\n",
    "\n",
    "tree_clf = DecisionTreeClassifier(random_state=42)\n",
    "tree_cv = GridSearchCV(\n",
    "    tree_clf, \n",
    "    params, \n",
    "    scoring=\"f1\", \n",
    "    n_jobs=-1, \n",
    ")\n",
    "\n",
    "tree_cv.fit(X_train, y_train)\n",
    "best_params = tree_cv.best_params_\n",
    "print(f\"Best paramters: {best_params})\")\n",
    "\n",
    "tree_clf = DecisionTreeClassifier(**best_params)\n",
    "tree_clf.fit(X_train, y_train)\n",
    "print_score(tree_clf, X_train, y_train, X_test, y_test, error_score='raise', train=True)\n",
    "print_score(tree_clf, X_train, y_train, X_test, y_test, train=False)"
   ]
  },
  {
   "cell_type": "code",
   "execution_count": null,
   "id": "cee7ec6d",
   "metadata": {},
   "outputs": [],
   "source": []
  }
 ],
 "metadata": {
  "kernelspec": {
   "display_name": "Python 3 (ipykernel)",
   "language": "python",
   "name": "python3"
  },
  "language_info": {
   "codemirror_mode": {
    "name": "ipython",
    "version": 3
   },
   "file_extension": ".py",
   "mimetype": "text/x-python",
   "name": "python",
   "nbconvert_exporter": "python",
   "pygments_lexer": "ipython3",
   "version": "3.11.2"
  }
 },
 "nbformat": 4,
 "nbformat_minor": 5
}
